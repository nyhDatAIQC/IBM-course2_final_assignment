{
 "cells": [
  {
   "cell_type": "markdown",
   "metadata": {},
   "source": [
    "<center>\n",
    "    <img src=\"https://cf-courses-data.s3.us.cloud-object-storage.appdomain.cloud/IBMDeveloperSkillsNetwork-DS0105EN-SkillsNetwork/labs/Module2/images/SN_web_lightmode.png\" width=\"300\" alt=\"cognitiveclass.ai logo\">\n",
    "</center>\n"
   ]
  },
  {
   "cell_type": "markdown",
   "metadata": {},
   "source": [
    "#### Add your code below following the instructions given in the course\n"
   ]
  },
  {
   "cell_type": "markdown",
   "metadata": {},
   "source": [
    "# My Jupyter Notebook on IBM Watson Studio"
   ]
  },
  {
   "cell_type": "markdown",
   "metadata": {},
   "source": [
    "**Name: Yu Hang Ng** <br>\n",
    "I want to be a data scientist."
   ]
  },
  {
   "cell_type": "markdown",
   "metadata": {},
   "source": [
    "*The current era allows us to collect, process, and analyze data in unprecedented ways. I am interested in data science because I want to learn how to extract insights and find solutions to practical problems from data.*"
   ]
  },
  {
   "cell_type": "markdown",
   "metadata": {},
   "source": [
    "### An example of basic arithmetic operations:"
   ]
  },
  {
   "cell_type": "code",
   "execution_count": 1,
   "metadata": {},
   "outputs": [
    {
     "data": {
      "text/plain": [
       "7"
      ]
     },
     "execution_count": 1,
     "metadata": {},
     "output_type": "execute_result"
    }
   ],
   "source": [
    "1+2*3"
   ]
  },
  {
   "cell_type": "markdown",
   "metadata": {},
   "source": [
    "### Create a function that converts minutes to hours:"
   ]
  },
  {
   "cell_type": "code",
   "execution_count": 2,
   "metadata": {},
   "outputs": [
    {
     "name": "stdout",
     "output_type": "stream",
     "text": [
      "1.7\n",
      "16.675\n",
      "0.25\n"
     ]
    }
   ],
   "source": [
    "def minTOhr(minutes):\n",
    "    return minutes/60\n",
    "\n",
    "print(minTOhr(102))\n",
    "print(minTOhr(1000.5))\n",
    "print(minTOhr(15))"
   ]
  },
  {
   "cell_type": "markdown",
   "metadata": {},
   "source": [
    "### Objectives of this final assignment (according to this [instruction](https://cf-courses-data.s3.us.cloud-object-storage.appdomain.cloud/IBMDeveloperSkillsNetwork-DS0105EN-SkillsNetwork/labs/FinalModule_Coursera/Final_Instruction_toolforDS.md.html?origin=www.coursera.org)):\n",
    " 1. Creating a Jupyter Notebook using Skills Network LTI item or Watson Studio environment. \n",
    " 2. Create Markdown cells."
   ]
  },
  {
   "cell_type": "markdown",
   "metadata": {},
   "source": [
    "### List of Data Science Languages:\n",
    " * Python\n",
    " * R\n",
    " * SQL\n",
    " * Java\n",
    " * Scala\n",
    " * C++\n",
    " * Javascipt\n",
    " * Julia"
   ]
  },
  {
   "cell_type": "markdown",
   "metadata": {},
   "source": [
    "### List of Data Science Libraries:\n",
    " 1. Python libraries: \n",
    "    * Scientiific computing: Pandas, NumPy\n",
    "    * Visualization: Matplotlib, Seaborn\n",
    "    * ML: Scikit-learn, Keras, TensorFlow, PyTorch\n",
    " 2. R libraries:\n",
    "    * Data manipulation: dplyr, tidyr\n",
    "    * Visualization: ggplot2, ggmap, Shiny\n",
    "    * ML: caret, also have libraries that interface with Keras, TensorFlow\n",
    " 3. Scala libraries:\n",
    "    * Visualization: Vegas\n",
    "    * DL: BigDL\n",
    " 4. Apache Spark libraries:\n",
    "    * have libraries similar to Panda, NumPy, Scikit-learn etc."
   ]
  },
  {
   "cell_type": "markdown",
   "metadata": {},
   "source": [
    "### Table of Data Science Tools:\n",
    "|      | **Open Source** | **Commercial** |\n",
    "|------|-----------------|----------------|\n",
    "| **Fully Integrated <br> Visual Tools**     | KNIME, Orange                                  | IBM Watson Studio, H2O.ai|\n",
    "| **Development Environments**               | Jupyter Notebook/Lab, Apache Zeppelin, <br> RStudio, Spyder | IBM Watson Studio  |\n",
    "| **Execution Environments**                 | Apache Spark, Flink, <br> RISELab Ray          | IBM Watson Studio |\n",
    "| **Data Management**                        | SQL: MySQL, PostgreSQL <br> NoSQL: MongoDB, CouchDB, Cassandra <br> Others: HDFS, Ceph, Elasticsearch | Oracle, Microsoft SQL, IBM Db2, <br> Amazon DynamoDB |\n",
    "| **Data Integration <br> & Transformation** | Apache Airflow, Kafka, Nifi, Spark SQL, <br> Kubeflow, Node-RED | IBM InfoSphere DataStage, Data Refinery, <br> Informatica, talend |\n",
    "| **Data Visualization**                     | Hue, Superset, kibana                          | Tableau, Microsoft Power BI, <br> IBM Cognos Analytics |\n",
    "| **Model Building**                         |                                                | IBM SPSS Modeler, SAS Enterprise Miner, <br> Google Cloud |\n",
    "| **Model Deployment**                       | PredictionIO,Seldon, mleap, <br> TensorFlow Serving/Lite/.Js | IBM SPSS |\n",
    "| **Model Monitoring <br> & Assessment**     | ModelDB, Prometheus, <br> IBM AI Fairness 360 Open Source Toolkit, <br> Adversarial Robustness 360 Toolbox, <br> AI Explainability 360 | IBM Watson OpenScale, Amazon SageMaker |\n",
    "| **Code Asset Management**                  | git, GitHub, GitLab, Bitbucket                 | IBM Watson Studio     |\n",
    "| **Data Asset Management**                  | Apache Atlas, ODPi EGERIA, Kylo                | Informatica, <br> IBM InfoSphere Information Governance Catalog |\n",
    "| **Fully Integrated <br> Visual Tools & Platforms**     | KNIME, Orange                      | IBM Watson Studio + Openscale, <br> Microsoft Azure ML, H2O.ai |"
   ]
  }
 ],
 "metadata": {
  "kernelspec": {
   "display_name": "Python",
   "language": "python",
   "name": "conda-env-python-py"
  },
  "language_info": {
   "codemirror_mode": {
    "name": "ipython",
    "version": 3
   },
   "file_extension": ".py",
   "mimetype": "text/x-python",
   "name": "python",
   "nbconvert_exporter": "python",
   "pygments_lexer": "ipython3",
   "version": "3.7.12"
  }
 },
 "nbformat": 4,
 "nbformat_minor": 4
}
